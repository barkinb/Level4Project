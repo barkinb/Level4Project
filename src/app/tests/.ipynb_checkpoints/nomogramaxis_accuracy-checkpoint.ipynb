{
 "cells": [
  {
   "cell_type": "code",
   "execution_count": null,
   "id": "90392bbf-a1b5-495f-b0ae-9a19f8eede74",
   "metadata": {
    "is_executing": true
   },
   "outputs": [],
   "source": []
  },
  {
   "cell_type": "code",
   "execution_count": 1,
   "id": "f6db2ab3-cf59-4485-a4dc-efabcc64a41f",
   "metadata": {
    "ExecuteTime": {
     "end_time": "2024-03-19T16:44:08.510398Z",
     "start_time": "2024-03-19T16:44:08.390930Z"
    }
   },
   "outputs": [
    {
     "name": "stdout",
     "output_type": "stream",
     "text": [
      "axis_histogram.pdf           mass_histogram.pdf\n",
      "bmi_histogram.pdf            nomogramaxis_accuracy.ipynb\n",
      "height_histogram.pdf         user_evaluation.ipynb\n"
     ]
    }
   ],
   "source": [
    "ls"
   ]
  },
  {
   "cell_type": "code",
   "execution_count": 4,
   "id": "3f65a4a2-7087-4635-bfef-f2177c41a537",
   "metadata": {
    "ExecuteTime": {
     "end_time": "2024-03-19T16:44:59.393726Z",
     "start_time": "2024-03-19T16:44:59.386737Z"
    }
   },
   "outputs": [
    {
     "name": "stdout",
     "output_type": "stream",
     "text": [
      "/Users/barkinbryce/Documents/JetBrainsProjects/Level4Project\n"
     ]
    }
   ],
   "source": [
    "cd .."
   ]
  },
  {
   "cell_type": "code",
   "execution_count": 5,
   "id": "139addc8-6046-404d-a1f4-84bf5b92a5e5",
   "metadata": {
    "ExecuteTime": {
     "end_time": "2024-03-19T16:45:12.677091Z",
     "start_time": "2024-03-19T16:45:12.673494Z"
    }
   },
   "outputs": [
    {
     "name": "stdout",
     "output_type": "stream",
     "text": [
      "/Users/barkinbryce/Documents/JetBrainsProjects/Level4Project/src\n"
     ]
    }
   ],
   "source": [
    "cd src/"
   ]
  },
  {
   "cell_type": "code",
   "execution_count": 6,
   "id": "a8d8b260-f6b0-49fd-8e82-bf8990adc44f",
   "metadata": {
    "ExecuteTime": {
     "end_time": "2024-03-19T16:45:52.309686Z",
     "start_time": "2024-03-19T16:45:50.138424Z"
    }
   },
   "outputs": [
    {
     "name": "stdout",
     "output_type": "stream",
     "text": [
      "Requirement already satisfied: asciitree==0.3.3 in /opt/anaconda3/lib/python3.11/site-packages (from -r requirements.txt (line 1)) (0.3.3)\n",
      "Requirement already satisfied: astmonkey==0.3.6 in /opt/anaconda3/lib/python3.11/site-packages (from -r requirements.txt (line 2)) (0.3.6)\n",
      "Requirement already satisfied: astroid==3.1.0 in /opt/anaconda3/lib/python3.11/site-packages (from -r requirements.txt (line 3)) (3.1.0)\n",
      "Requirement already satisfied: bezier==2023.7.28 in /opt/anaconda3/lib/python3.11/site-packages (from -r requirements.txt (line 4)) (2023.7.28)\n",
      "Requirement already satisfied: black==24.2.0 in /opt/anaconda3/lib/python3.11/site-packages (from -r requirements.txt (line 5)) (24.2.0)\n",
      "Requirement already satisfied: bytecode==0.15.1 in /opt/anaconda3/lib/python3.11/site-packages (from -r requirements.txt (line 6)) (0.15.1)\n",
      "Requirement already satisfied: certifi==2024.2.2 in /opt/anaconda3/lib/python3.11/site-packages (from -r requirements.txt (line 7)) (2024.2.2)\n",
      "Requirement already satisfied: charset-normalizer==3.3.2 in /opt/anaconda3/lib/python3.11/site-packages (from -r requirements.txt (line 8)) (3.3.2)\n",
      "Requirement already satisfied: click==8.1.7 in /opt/anaconda3/lib/python3.11/site-packages (from -r requirements.txt (line 9)) (8.1.7)\n",
      "Requirement already satisfied: distlib==0.3.8 in /opt/anaconda3/lib/python3.11/site-packages (from -r requirements.txt (line 10)) (0.3.8)\n",
      "Requirement already satisfied: docstring-parser==0.15 in /opt/anaconda3/lib/python3.11/site-packages (from -r requirements.txt (line 11)) (0.15)\n",
      "Requirement already satisfied: exceptiongroup==1.2.0 in /opt/anaconda3/lib/python3.11/site-packages (from -r requirements.txt (line 12)) (1.2.0)\n",
      "Requirement already satisfied: filelock==3.13.1 in /opt/anaconda3/lib/python3.11/site-packages (from -r requirements.txt (line 13)) (3.13.1)\n",
      "Requirement already satisfied: idna==3.6 in /opt/anaconda3/lib/python3.11/site-packages (from -r requirements.txt (line 14)) (3.6)\n",
      "Requirement already satisfied: iniconfig==2.0.0 in /opt/anaconda3/lib/python3.11/site-packages (from -r requirements.txt (line 15)) (2.0.0)\n",
      "Requirement already satisfied: jellyfish==1.0.3 in /opt/anaconda3/lib/python3.11/site-packages (from -r requirements.txt (line 16)) (1.0.3)\n",
      "Requirement already satisfied: Jinja2==3.1.3 in /opt/anaconda3/lib/python3.11/site-packages (from -r requirements.txt (line 17)) (3.1.3)\n",
      "Requirement already satisfied: libcst==1.2.0 in /opt/anaconda3/lib/python3.11/site-packages (from -r requirements.txt (line 18)) (1.2.0)\n",
      "Requirement already satisfied: markdown-it-py==3.0.0 in /opt/anaconda3/lib/python3.11/site-packages (from -r requirements.txt (line 19)) (3.0.0)\n",
      "Requirement already satisfied: MarkupSafe==2.1.5 in /opt/anaconda3/lib/python3.11/site-packages (from -r requirements.txt (line 20)) (2.1.5)\n",
      "Requirement already satisfied: mdurl==0.1.2 in /opt/anaconda3/lib/python3.11/site-packages (from -r requirements.txt (line 21)) (0.1.2)\n",
      "Requirement already satisfied: mpmath==1.3.0 in /opt/anaconda3/lib/python3.11/site-packages (from -r requirements.txt (line 22)) (1.3.0)\n",
      "Requirement already satisfied: MutPy-Pynguin==0.7.1 in /opt/anaconda3/lib/python3.11/site-packages (from -r requirements.txt (line 23)) (0.7.1)\n",
      "Requirement already satisfied: mypy-extensions==1.0.0 in /opt/anaconda3/lib/python3.11/site-packages (from -r requirements.txt (line 24)) (1.0.0)\n",
      "Requirement already satisfied: networkx==3.2.1 in /opt/anaconda3/lib/python3.11/site-packages (from -r requirements.txt (line 25)) (3.2.1)\n",
      "Requirement already satisfied: numpy==1.25.0 in /opt/anaconda3/lib/python3.11/site-packages (from -r requirements.txt (line 26)) (1.25.0)\n",
      "Requirement already satisfied: opencv-python==4.8.1.78 in /opt/anaconda3/lib/python3.11/site-packages (from -r requirements.txt (line 27)) (4.8.1.78)\n",
      "Requirement already satisfied: packaging==23.2 in /opt/anaconda3/lib/python3.11/site-packages (from -r requirements.txt (line 28)) (23.2)\n",
      "Requirement already satisfied: pathspec==0.12.1 in /opt/anaconda3/lib/python3.11/site-packages (from -r requirements.txt (line 29)) (0.12.1)\n",
      "Requirement already satisfied: Pillow==10.1.0 in /opt/anaconda3/lib/python3.11/site-packages (from -r requirements.txt (line 30)) (10.1.0)\n",
      "Requirement already satisfied: pipenv==2023.10.3 in /opt/anaconda3/lib/python3.11/site-packages (from -r requirements.txt (line 31)) (2023.10.3)\n",
      "Requirement already satisfied: platformdirs==4.2.0 in /opt/anaconda3/lib/python3.11/site-packages (from -r requirements.txt (line 32)) (4.2.0)\n",
      "Requirement already satisfied: pluggy==1.4.0 in /opt/anaconda3/lib/python3.11/site-packages (from -r requirements.txt (line 33)) (1.4.0)\n",
      "Requirement already satisfied: pydot==2.0.0 in /opt/anaconda3/lib/python3.11/site-packages (from -r requirements.txt (line 34)) (2.0.0)\n",
      "Requirement already satisfied: Pygments==2.17.2 in /opt/anaconda3/lib/python3.11/site-packages (from -r requirements.txt (line 35)) (2.17.2)\n",
      "Requirement already satisfied: pyparsing==3.1.2 in /opt/anaconda3/lib/python3.11/site-packages (from -r requirements.txt (line 36)) (3.1.2)\n",
      "Requirement already satisfied: pytest==8.1.1 in /opt/anaconda3/lib/python3.11/site-packages (from -r requirements.txt (line 37)) (8.1.1)\n",
      "Requirement already satisfied: PyYAML==6.0.1 in /opt/anaconda3/lib/python3.11/site-packages (from -r requirements.txt (line 38)) (6.0.1)\n",
      "Requirement already satisfied: requests==2.31.0 in /opt/anaconda3/lib/python3.11/site-packages (from -r requirements.txt (line 39)) (2.31.0)\n",
      "Requirement already satisfied: rich==13.7.1 in /opt/anaconda3/lib/python3.11/site-packages (from -r requirements.txt (line 40)) (13.7.1)\n",
      "Requirement already satisfied: scipy==1.11.3 in /opt/anaconda3/lib/python3.11/site-packages (from -r requirements.txt (line 41)) (1.11.3)\n",
      "Requirement already satisfied: simple_parsing==0.1.5 in /opt/anaconda3/lib/python3.11/site-packages (from -r requirements.txt (line 42)) (0.1.5)\n",
      "Requirement already satisfied: sympy==1.12 in /opt/anaconda3/lib/python3.11/site-packages (from -r requirements.txt (line 43)) (1.12)\n",
      "Requirement already satisfied: termcolor==2.4.0 in /opt/anaconda3/lib/python3.11/site-packages (from -r requirements.txt (line 44)) (2.4.0)\n",
      "Requirement already satisfied: tkinter-tooltip==3.0.0 in /opt/anaconda3/lib/python3.11/site-packages (from -r requirements.txt (line 45)) (3.0.0)\n",
      "Requirement already satisfied: tomli==2.0.1 in /opt/anaconda3/lib/python3.11/site-packages (from -r requirements.txt (line 46)) (2.0.1)\n",
      "Requirement already satisfied: typing-inspect==0.9.0 in /opt/anaconda3/lib/python3.11/site-packages (from -r requirements.txt (line 47)) (0.9.0)\n",
      "Requirement already satisfied: typing_extensions==4.10.0 in /opt/anaconda3/lib/python3.11/site-packages (from -r requirements.txt (line 48)) (4.10.0)\n",
      "Requirement already satisfied: urllib3==2.2.1 in /opt/anaconda3/lib/python3.11/site-packages (from -r requirements.txt (line 49)) (2.2.1)\n",
      "Requirement already satisfied: virtualenv==20.25.1 in /opt/anaconda3/lib/python3.11/site-packages (from -r requirements.txt (line 50)) (20.25.1)\n",
      "Requirement already satisfied: setuptools>=67 in /opt/anaconda3/lib/python3.11/site-packages (from pipenv==2023.10.3->-r requirements.txt (line 31)) (68.2.2)\n",
      "Note: you may need to restart the kernel to use updated packages.\n"
     ]
    }
   ],
   "source": [
    "pip install -r requirements.txt"
   ]
  },
  {
   "cell_type": "code",
   "execution_count": 7,
   "id": "88e814b4-9208-40ed-bbce-5de197060d19",
   "metadata": {
    "ExecuteTime": {
     "end_time": "2024-03-19T16:45:59.633143Z",
     "start_time": "2024-03-19T16:45:59.507019Z"
    }
   },
   "outputs": [
    {
     "name": "stdout",
     "output_type": "stream",
     "text": [
      "LICENSE           manual.md         readme.md         \u001b[34mvenv\u001b[m\u001b[m/\n",
      "\u001b[34mapp\u001b[m\u001b[m/              \u001b[34mnomograms\u001b[m\u001b[m/        requirements.txt\n"
     ]
    }
   ],
   "source": [
    "ls"
   ]
  },
  {
   "cell_type": "code",
   "execution_count": 8,
   "id": "40ec836ae4cff9c5",
   "metadata": {
    "ExecuteTime": {
     "end_time": "2024-03-19T16:46:08.856642Z",
     "start_time": "2024-03-19T16:46:08.853177Z"
    },
    "collapsed": false,
    "jupyter": {
     "outputs_hidden": false
    }
   },
   "outputs": [
    {
     "name": "stdout",
     "output_type": "stream",
     "text": [
      "/Users/barkinbryce/Documents/JetBrainsProjects/Level4Project/src/app\n"
     ]
    }
   ],
   "source": [
    "cd app/"
   ]
  },
  {
   "cell_type": "code",
   "execution_count": 9,
   "id": "c74fc1201e46090d",
   "metadata": {
    "collapsed": false,
    "jupyter": {
     "outputs_hidden": false
    }
   },
   "outputs": [
    {
     "name": "stdout",
     "output_type": "stream",
     "text": [
      "DistributionParser.py  \u001b[34m__pycache__\u001b[m\u001b[m/           \u001b[34mtests\u001b[m\u001b[m/\n",
      "Isopleth.py            \u001b[34micons\u001b[m\u001b[m/                 \u001b[34mutils\u001b[m\u001b[m/\n",
      "NomogramAxis.py        main.py\n"
     ]
    }
   ],
   "source": [
    "ls"
   ]
  },
  {
   "cell_type": "code",
   "execution_count": 12,
   "id": "97dc397c-7e35-4723-ad86-eb266b7e02f1",
   "metadata": {},
   "outputs": [],
   "source": [
    "canvas = tkinter.Canvas"
   ]
  },
  {
   "cell_type": "code",
   "execution_count": 11,
   "id": "e7261827-a1d5-413a-84e1-6e28d6454f28",
   "metadata": {},
   "outputs": [],
   "source": [
    "from tests "
   ]
  },
  {
   "cell_type": "code",
   "execution_count": 16,
   "id": "96c9f6b6-e17b-4ae4-b9d8-ea81531008d0",
   "metadata": {},
   "outputs": [],
   "source": [
    "massAxis = Axis(\"kms\",[\n",
    "            [\n",
    "                44,\n",
    "                53\n",
    "            ],\n",
    "            [\n",
    "                43,\n",
    "                819\n",
    "            ]\n",
    "        ], canvas=canvas)\n"
   ]
  },
  {
   "cell_type": "code",
   "execution_count": 17,
   "id": "72051dea-f159-436e-9fdb-5be1bced2cb8",
   "metadata": {},
   "outputs": [
    {
     "ename": "AttributeError",
     "evalue": "'numpy.float64' object has no attribute '_create'",
     "output_type": "error",
     "traceback": [
      "\u001b[0;31m---------------------------------------------------------------------------\u001b[0m",
      "\u001b[0;31mAttributeError\u001b[0m                            Traceback (most recent call last)",
      "Cell \u001b[0;32mIn[17], line 1\u001b[0m\n\u001b[0;32m----> 1\u001b[0m massAxis\u001b[38;5;241m.\u001b[39mdraw()\n",
      "File \u001b[0;32m~/Documents/JetBrainsProjects/Level4Project/src/app/NomogramAxis.py:82\u001b[0m, in \u001b[0;36mAxis.draw\u001b[0;34m(self)\u001b[0m\n\u001b[1;32m     80\u001b[0m \u001b[38;5;28mself\u001b[39m\u001b[38;5;241m.\u001b[39mscaled_points_middle \u001b[38;5;241m=\u001b[39m (\u001b[38;5;28mself\u001b[39m\u001b[38;5;241m.\u001b[39mscaled_points_middle[\u001b[38;5;241m0\u001b[39m], \u001b[38;5;28mself\u001b[39m\u001b[38;5;241m.\u001b[39mscaled_points_middle[\u001b[38;5;241m1\u001b[39m])\n\u001b[1;32m     81\u001b[0m \u001b[38;5;28mself\u001b[39m\u001b[38;5;241m.\u001b[39mimplicit_axis_equation \u001b[38;5;241m=\u001b[39m \u001b[38;5;28mself\u001b[39m\u001b[38;5;241m.\u001b[39mcurve_points\u001b[38;5;241m.\u001b[39mimplicitize()\n\u001b[0;32m---> 82\u001b[0m \u001b[38;5;28mself\u001b[39m\u001b[38;5;241m.\u001b[39mcurve \u001b[38;5;241m=\u001b[39m \u001b[38;5;28mself\u001b[39m\u001b[38;5;241m.\u001b[39mcanvas\u001b[38;5;241m.\u001b[39mcreate_line(\u001b[38;5;241m*\u001b[39m\u001b[38;5;28msum\u001b[39m(\u001b[38;5;28mself\u001b[39m\u001b[38;5;241m.\u001b[39mscaled_points, ()), width\u001b[38;5;241m=\u001b[39m\u001b[38;5;28mself\u001b[39m\u001b[38;5;241m.\u001b[39mcurve_width,\n\u001b[1;32m     83\u001b[0m                                      fill\u001b[38;5;241m=\u001b[39m\u001b[38;5;28mself\u001b[39m\u001b[38;5;241m.\u001b[39mcurve_colour,\n\u001b[1;32m     84\u001b[0m                                      tags\u001b[38;5;241m=\u001b[39m(\u001b[38;5;124m\"\u001b[39m\u001b[38;5;124mbezier_curve\u001b[39m\u001b[38;5;124m\"\u001b[39m, \u001b[38;5;124mf\u001b[39m\u001b[38;5;124m\"\u001b[39m\u001b[38;5;124mbezier_axis_curve_\u001b[39m\u001b[38;5;132;01m{\u001b[39;00m\u001b[38;5;28mself\u001b[39m\u001b[38;5;241m.\u001b[39mname\u001b[38;5;132;01m}\u001b[39;00m\u001b[38;5;124m\"\u001b[39m))\n\u001b[1;32m     85\u001b[0m \u001b[38;5;28mself\u001b[39m\u001b[38;5;241m.\u001b[39maxis_drawn \u001b[38;5;241m=\u001b[39m \u001b[38;5;28;01mTrue\u001b[39;00m\n\u001b[1;32m     86\u001b[0m \u001b[38;5;28;01mreturn\u001b[39;00m \u001b[38;5;28;01mTrue\u001b[39;00m\n",
      "File \u001b[0;32m/opt/anaconda3/lib/python3.11/tkinter/__init__.py:2850\u001b[0m, in \u001b[0;36mCanvas.create_line\u001b[0;34m(self, *args, **kw)\u001b[0m\n\u001b[1;32m   2848\u001b[0m \u001b[38;5;28;01mdef\u001b[39;00m \u001b[38;5;21mcreate_line\u001b[39m(\u001b[38;5;28mself\u001b[39m, \u001b[38;5;241m*\u001b[39margs, \u001b[38;5;241m*\u001b[39m\u001b[38;5;241m*\u001b[39mkw):\n\u001b[1;32m   2849\u001b[0m \u001b[38;5;250m    \u001b[39m\u001b[38;5;124;03m\"\"\"Create line with coordinates x1,y1,...,xn,yn.\"\"\"\u001b[39;00m\n\u001b[0;32m-> 2850\u001b[0m     \u001b[38;5;28;01mreturn\u001b[39;00m \u001b[38;5;28mself\u001b[39m\u001b[38;5;241m.\u001b[39m_create(\u001b[38;5;124m'\u001b[39m\u001b[38;5;124mline\u001b[39m\u001b[38;5;124m'\u001b[39m, args, kw)\n",
      "\u001b[0;31mAttributeError\u001b[0m: 'numpy.float64' object has no attribute '_create'"
     ]
    }
   ],
   "source": [
    "massAxis.draw()"
   ]
  },
  {
   "cell_type": "code",
   "execution_count": 14,
   "id": "83475377-7598-4ca2-a8fa-0e706b9693dd",
   "metadata": {},
   "outputs": [
    {
     "ename": "TypeError",
     "evalue": "'NoneType' object is not subscriptable",
     "output_type": "error",
     "traceback": [
      "\u001b[0;31m---------------------------------------------------------------------------\u001b[0m",
      "\u001b[0;31mTypeError\u001b[0m                                 Traceback (most recent call last)",
      "Cell \u001b[0;32mIn[14], line 1\u001b[0m\n\u001b[0;32m----> 1\u001b[0m massAxis\u001b[38;5;241m.\u001b[39mset_axis_points([\n\u001b[1;32m      2\u001b[0m             [\n\u001b[1;32m      3\u001b[0m                 \u001b[38;5;241m43.112903225806456\u001b[39m,\n\u001b[1;32m      4\u001b[0m                 \u001b[38;5;241m732.516129032258\u001b[39m,\n\u001b[1;32m      5\u001b[0m                 \u001b[38;5;241m200.0\u001b[39m\n\u001b[1;32m      6\u001b[0m             ],\n\u001b[1;32m      7\u001b[0m             [\n\u001b[1;32m      8\u001b[0m                 \u001b[38;5;241m43.33870967741935\u001b[39m,\n\u001b[1;32m      9\u001b[0m                 \u001b[38;5;241m559.5483870967741\u001b[39m,\n\u001b[1;32m     10\u001b[0m                 \u001b[38;5;241m400.0\u001b[39m\n\u001b[1;32m     11\u001b[0m             ],\n\u001b[1;32m     12\u001b[0m             [\n\u001b[1;32m     13\u001b[0m                 \u001b[38;5;241m43.556451612903224\u001b[39m,\n\u001b[1;32m     14\u001b[0m                 \u001b[38;5;241m392.758064516129\u001b[39m,\n\u001b[1;32m     15\u001b[0m                 \u001b[38;5;241m600.0\u001b[39m\n\u001b[1;32m     16\u001b[0m             ],\n\u001b[1;32m     17\u001b[0m             [\n\u001b[1;32m     18\u001b[0m                 \u001b[38;5;241m43.774193548387096\u001b[39m,\n\u001b[1;32m     19\u001b[0m                 \u001b[38;5;241m225.96774193548387\u001b[39m,\n\u001b[1;32m     20\u001b[0m                 \u001b[38;5;241m800.0\u001b[39m\n\u001b[1;32m     21\u001b[0m             ]\n\u001b[1;32m     22\u001b[0m         ]\n\u001b[1;32m     23\u001b[0m                         )\n",
      "File \u001b[0;32m~/Documents/JetBrainsProjects/Level4Project/src/app/NomogramAxis.py:95\u001b[0m, in \u001b[0;36mAxis.set_axis_points\u001b[0;34m(self, axis_points)\u001b[0m\n\u001b[1;32m     93\u001b[0m \u001b[38;5;28mself\u001b[39m\u001b[38;5;241m.\u001b[39maxis_points \u001b[38;5;241m=\u001b[39m axis_points\n\u001b[1;32m     94\u001b[0m \u001b[38;5;28;01mif\u001b[39;00m \u001b[38;5;28mlen\u001b[39m(\u001b[38;5;28mself\u001b[39m\u001b[38;5;241m.\u001b[39maxis_points) \u001b[38;5;241m>\u001b[39m \u001b[38;5;241m3\u001b[39m:\n\u001b[0;32m---> 95\u001b[0m     \u001b[38;5;28mself\u001b[39m\u001b[38;5;241m.\u001b[39mfit_axis_equation()\n",
      "File \u001b[0;32m~/Documents/JetBrainsProjects/Level4Project/src/app/NomogramAxis.py:118\u001b[0m, in \u001b[0;36mAxis.fit_axis_equation\u001b[0;34m(self)\u001b[0m\n\u001b[1;32m    116\u001b[0m \u001b[38;5;28mself\u001b[39m\u001b[38;5;241m.\u001b[39maxis_equation_coefficients \u001b[38;5;241m=\u001b[39m popt\n\u001b[1;32m    117\u001b[0m \u001b[38;5;28mself\u001b[39m\u001b[38;5;241m.\u001b[39maxis_equation_produced \u001b[38;5;241m=\u001b[39m \u001b[38;5;28;01mTrue\u001b[39;00m\n\u001b[0;32m--> 118\u001b[0m \u001b[38;5;28mself\u001b[39m\u001b[38;5;241m.\u001b[39mstart_show_axis_points_canvas()\n",
      "File \u001b[0;32m~/Documents/JetBrainsProjects/Level4Project/src/app/NomogramAxis.py:144\u001b[0m, in \u001b[0;36mAxis.start_show_axis_points_canvas\u001b[0;34m(self)\u001b[0m\n\u001b[1;32m    142\u001b[0m \u001b[38;5;250m\u001b[39m\u001b[38;5;124;03m\"\"\"if the equation has been produced, shows the estimation for 5 points on the axis\"\"\"\u001b[39;00m\n\u001b[1;32m    143\u001b[0m \u001b[38;5;28;01mif\u001b[39;00m \u001b[38;5;28mself\u001b[39m\u001b[38;5;241m.\u001b[39maxis_equation_produced:\n\u001b[0;32m--> 144\u001b[0m     \u001b[38;5;28mself\u001b[39m\u001b[38;5;241m.\u001b[39mestimated_show_axis_points()\n",
      "File \u001b[0;32m~/Documents/JetBrainsProjects/Level4Project/src/app/NomogramAxis.py:155\u001b[0m, in \u001b[0;36mAxis.estimated_show_axis_points\u001b[0;34m(self)\u001b[0m\n\u001b[1;32m    153\u001b[0m     \u001b[38;5;28mself\u001b[39m\u001b[38;5;241m.\u001b[39mcanvas\u001b[38;5;241m.\u001b[39mdelete(\u001b[38;5;124mf\u001b[39m\u001b[38;5;124m\"\u001b[39m\u001b[38;5;124maxis_values_\u001b[39m\u001b[38;5;132;01m{\u001b[39;00m\u001b[38;5;28mself\u001b[39m\u001b[38;5;241m.\u001b[39mname\u001b[38;5;132;01m}\u001b[39;00m\u001b[38;5;124m\"\u001b[39m)\n\u001b[1;32m    154\u001b[0m \u001b[38;5;28;01mif\u001b[39;00m \u001b[38;5;28mlen\u001b[39m(\u001b[38;5;28mself\u001b[39m\u001b[38;5;241m.\u001b[39maxis_points) \u001b[38;5;241m>\u001b[39m \u001b[38;5;241m2\u001b[39m:\n\u001b[0;32m--> 155\u001b[0m     \u001b[38;5;28mself\u001b[39m\u001b[38;5;241m.\u001b[39mdraw_estimated_axis_points()\n",
      "File \u001b[0;32m~/Documents/JetBrainsProjects/Level4Project/src/app/NomogramAxis.py:159\u001b[0m, in \u001b[0;36mAxis.draw_estimated_axis_points\u001b[0;34m(self)\u001b[0m\n\u001b[1;32m    157\u001b[0m \u001b[38;5;28;01mdef\u001b[39;00m \u001b[38;5;21mdraw_estimated_axis_points\u001b[39m(\u001b[38;5;28mself\u001b[39m):\n\u001b[1;32m    158\u001b[0m \u001b[38;5;250m    \u001b[39m\u001b[38;5;124;03m\"\"\"calculates and draws the estimation for 5 points on the axis\"\"\"\u001b[39;00m\n\u001b[0;32m--> 159\u001b[0m     random_points \u001b[38;5;241m=\u001b[39m \u001b[38;5;28mself\u001b[39m\u001b[38;5;241m.\u001b[39mscaled_points[::(NUMBER_OF_DETAIL \u001b[38;5;241m/\u001b[39m\u001b[38;5;241m/\u001b[39m \u001b[38;5;241m5\u001b[39m)]\n\u001b[1;32m    160\u001b[0m     \u001b[38;5;28;01mfor\u001b[39;00m i, (x, y) \u001b[38;5;129;01min\u001b[39;00m \u001b[38;5;28menumerate\u001b[39m(random_points):\n\u001b[1;32m    161\u001b[0m         x_float, y_float \u001b[38;5;241m=\u001b[39m \u001b[38;5;28mfloat\u001b[39m(x), \u001b[38;5;28mfloat\u001b[39m(y)\n",
      "\u001b[0;31mTypeError\u001b[0m: 'NoneType' object is not subscriptable"
     ]
    }
   ],
   "source": [
    "massAxis.set_axis_points([\n",
    "            [\n",
    "                43.112903225806456,\n",
    "                732.516129032258,\n",
    "                200.0\n",
    "            ],\n",
    "            [\n",
    "                43.33870967741935,\n",
    "                559.5483870967741,\n",
    "                400.0\n",
    "            ],\n",
    "            [\n",
    "                43.556451612903224,\n",
    "                392.758064516129,\n",
    "                600.0\n",
    "            ],\n",
    "            [\n",
    "                43.774193548387096,\n",
    "                225.96774193548387,\n",
    "                800.0\n",
    "            ]\n",
    "        ]\n",
    "                        )"
   ]
  },
  {
   "cell_type": "code",
   "execution_count": null,
   "id": "e83b4ea6-ce9a-4b7d-82cd-e4bd64e917d6",
   "metadata": {},
   "outputs": [],
   "source": []
  }
 ],
 "metadata": {
  "kernelspec": {
   "display_name": "Python 3 (ipykernel)",
   "language": "python",
   "name": "python3"
  },
  "language_info": {
   "codemirror_mode": {
    "name": "ipython",
    "version": 3
   },
   "file_extension": ".py",
   "mimetype": "text/x-python",
   "name": "python",
   "nbconvert_exporter": "python",
   "pygments_lexer": "ipython3",
   "version": "3.11.7"
  }
 },
 "nbformat": 4,
 "nbformat_minor": 5
}
